{
 "cells": [
  {
   "cell_type": "code",
   "execution_count": 5,
   "metadata": {},
   "outputs": [],
   "source": [
    "from tkinter import*\n",
    "\n",
    "window = Tk()\n",
    "\n",
    "btn1 = Button(window, text = '블로그1')\n",
    "btn2 = Button(window, text = '블로그2')\n",
    "btn3 = Button(window, text = '블로그3')\n",
    "\n",
    "btn1.pack()\n",
    "btn2.pack()\n",
    "btn3.pack()\n",
    "\n",
    "window.mainloop()"
   ]
  },
  {
   "cell_type": "code",
   "execution_count": 23,
   "metadata": {},
   "outputs": [],
   "source": [
    "import tkinter\n",
    "import webbrowser\n",
    "\n",
    "window = Tk()\n",
    "\n",
    "def blog1():\n",
    "    url = 'https://blog.naver.com/lovelydl22?Redirect=Log&logNo=221570557278'\n",
    "    webbrowser.open_new(url)\n",
    "def blog2():\n",
    "    url = 'https://blog.naver.com/coffe4471?Redirect=Log&logNo=221959498373'\n",
    "    webbrowser.open_new(url)\n",
    "def blog3():\n",
    "    url = 'https://blog.naver.com/pakcaptain?Redirect=Log&logNo=221442387139'\n",
    "    webbrowser.open_new(url)\n",
    "\n",
    "btn1 = Button(window, text='블로그1', command=blog1)\n",
    "btn1.pack()\n",
    "btn2 = Button(window, text='블로그2', command=blog2)\n",
    "btn2.pack()\n",
    "btn3 = Button(window, text='블로그3', command=blog3)\n",
    "btn3.pack()\n",
    "\n",
    "window.mainloop()"
   ]
  },
  {
   "cell_type": "code",
   "execution_count": 17,
   "metadata": {},
   "outputs": [
    {
     "data": {
      "text/plain": [
       "True"
      ]
     },
     "execution_count": 17,
     "metadata": {},
     "output_type": "execute_result"
    }
   ],
   "source": [
    "import webbrowser\n",
    "url = 'http://www.python.org/'\n",
    "webbrowser.open_new(url)"
   ]
  },
  {
   "cell_type": "code",
   "execution_count": 24,
   "metadata": {},
   "outputs": [
    {
     "name": "stdout",
     "output_type": "stream",
     "text": [
      "80 평생 SNS·방송 추천 믿지 않아 친구들 만장일치 맛집만 골라 간다\n",
      "https://www.wikitree.co.kr/articles/537092\n",
      "\n",
      "'이동갈비가 어디서 왔을까' …알고 먹는 포천 맛집 이동갈비 원조향토이동갈...\n",
      "http://www.dailysmart.co.kr/news/articleView.html?idxno=27064\n"
     ]
    }
   ],
   "source": [
    "from urllib.request import urlopen\n",
    "from urllib.request import urlretrieve\n",
    "from bs4 import BeautifulSoup\n",
    "\n",
    "page = urlopen('https://search.naver.com/search.naver?where=news&sm=tab_jum&query=%EA%B2%BD%EA%B8%B0%EB%8F%84+%EB%A7%9B%EC%A7%91+%EC%B6%94%EC%B2%9C').read()\n",
    "soup = BeautifulSoup(page, 'html.parser')\n",
    "\n",
    "titles = soup.select('#sp_nws10 > dl > dt > a')\n",
    "for title in titles:\n",
    "    print(title.get_text())\n",
    "    \n",
    "url='https://www.wikitree.co.kr/articles/537092'\n",
    "urls=urlopen(url)\n",
    "print(urls.geturl())\n",
    "\n",
    "print()\n",
    "page1 = urlopen('https://search.naver.com/search.naver?where=news&sm=tab_jum&query=%EA%B2%BD%EA%B8%B0%EB%8F%84+%EB%A7%9B%EC%A7%91+%EC%B6%94%EC%B2%9C').read()\n",
    "soup = BeautifulSoup(page, 'html.parser')\n",
    "\n",
    "titles = soup.select('#sp_nws5 > dl > dt > a')\n",
    "for title in titles:\n",
    "    print(title.get_text())\n",
    "\n",
    "url='http://www.dailysmart.co.kr/news/articleView.html?idxno=27064'\n",
    "urls=urlopen(url)\n",
    "print(urls.geturl())"
   ]
  }
 ],
 "metadata": {
  "kernelspec": {
   "display_name": "Python 3",
   "language": "python",
   "name": "python3"
  },
  "language_info": {
   "codemirror_mode": {
    "name": "ipython",
    "version": 3
   },
   "file_extension": ".py",
   "mimetype": "text/x-python",
   "name": "python",
   "nbconvert_exporter": "python",
   "pygments_lexer": "ipython3",
   "version": "3.7.6"
  }
 },
 "nbformat": 4,
 "nbformat_minor": 4
}
